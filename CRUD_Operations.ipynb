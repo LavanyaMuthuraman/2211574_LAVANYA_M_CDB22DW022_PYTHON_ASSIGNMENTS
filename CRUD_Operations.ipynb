{
 "cells": [
  {
   "cell_type": "code",
   "execution_count": 1,
   "id": "6557d1d6",
   "metadata": {},
   "outputs": [
    {
     "name": "stdout",
     "output_type": "stream",
     "text": [
      "Requirement already satisfied: mysql-connector-python in c:\\programdata\\anaconda3\\lib\\site-packages (8.0.30)Note: you may need to restart the kernel to use updated packages.\n",
      "\n",
      "Requirement already satisfied: protobuf<=3.20.1,>=3.11.0 in c:\\programdata\\anaconda3\\lib\\site-packages (from mysql-connector-python) (3.20.1)\n"
     ]
    }
   ],
   "source": [
    "pip install mysql-connector-python"
   ]
  },
  {
   "cell_type": "code",
   "execution_count": 8,
   "id": "5208ca23",
   "metadata": {},
   "outputs": [],
   "source": [
    "import mysql.connector #Importing Connector package   \n",
    "mysqldb=mysql.connector.connect(host=\"localhost\",user=\"root\",password=\"Lav\")#established connection   \n",
    "mycursor=mysqldb.cursor()#cursor() method create a cursor object  \n",
    "mycursor.execute(\"create database dbpython\")#Execute SQL Query to create a database    \n",
    "mysqldb.close()#Connection Close "
   ]
  },
  {
   "cell_type": "markdown",
   "id": "7f9923e5",
   "metadata": {},
   "source": [
    "## Create table"
   ]
  },
  {
   "cell_type": "code",
   "execution_count": 10,
   "id": "bff89bb1",
   "metadata": {
    "scrolled": true
   },
   "outputs": [],
   "source": [
    "#Create a table into dbpython database  \n",
    "import mysql.connector  \n",
    "mysqldb=mysql.connector.connect(host=\"localhost\",user=\"root\",password=\"Lav\",database=\"dbpython\")#established connection between your database   \n",
    "mycursor=mysqldb.cursor()#cursor() method create a cursor object  \n",
    "mycursor.execute(\"create table student(roll INT,name VARCHAR(255), marks INT)\")#Execute SQL Query to create a table into your database  \n",
    "mysqldb.close()#Connection Close "
   ]
  },
  {
   "cell_type": "markdown",
   "id": "5eda8bf2",
   "metadata": {},
   "source": [
    "## Import table"
   ]
  },
  {
   "cell_type": "code",
   "execution_count": 11,
   "id": "26753985",
   "metadata": {},
   "outputs": [
    {
     "name": "stdout",
     "output_type": "stream",
     "text": [
      "Record inserted successfully...\n"
     ]
    }
   ],
   "source": [
    "import mysql.connector  \n",
    "mysqldb=mysql.connector.connect(host=\"localhost\",user=\"root\",password=\"Lav\",database=\"dbpython\")#established connection between your database  \n",
    "mycursor=mysqldb.cursor()#cursor() method create a cursor object    \n",
    "try:  \n",
    "   #Execute SQL Query to insert record  \n",
    "   mycursor.execute(\"insert into student values(1,'Sarfaraj',80),(2,'Kumar',89),(3,'Sohan',90)\")  \n",
    "   mysqldb.commit() # Commit is used for your changes in the database  \n",
    "   print('Record inserted successfully...')   \n",
    "except:  \n",
    "   # rollback used for if any error   \n",
    "   mysqldb.rollback()  \n",
    "mysqldb.close()#Connection Close"
   ]
  },
  {
   "cell_type": "markdown",
   "id": "029aa2ac",
   "metadata": {},
   "source": [
    "## Display Record"
   ]
  },
  {
   "cell_type": "code",
   "execution_count": 12,
   "id": "f4e5ab53",
   "metadata": {},
   "outputs": [
    {
     "name": "stdout",
     "output_type": "stream",
     "text": [
      "1 Sarfaraj 80\n",
      "2 Kumar 89\n",
      "3 Sohan 90\n"
     ]
    }
   ],
   "source": [
    "import mysql.connector  \n",
    "mysqldb=mysql.connector.connect(host=\"localhost\",user=\"root\",password=\"Lav\",database=\"dbpython\")#established connection between your database  \n",
    "mycursor=mysqldb.cursor()#cursor() method create a cursor object  \n",
    "try:  \n",
    "   mycursor.execute(\"select * from student\")#Execute SQL Query to select all record   \n",
    "   result=mycursor.fetchall() #fetches all the rows in a result set   \n",
    "   for i in result:    \n",
    "      roll=i[0]  \n",
    "      name=i[1]  \n",
    "      marks=i[2]  \n",
    "      print(roll,name,marks)  \n",
    "except:   \n",
    "   print('Error:Unable to fetch data.')  \n",
    "mysqldb.close()#Connection Close  "
   ]
  },
  {
   "cell_type": "markdown",
   "id": "9a11b359",
   "metadata": {},
   "source": [
    "## Update record"
   ]
  },
  {
   "cell_type": "code",
   "execution_count": 13,
   "id": "c40664b7",
   "metadata": {},
   "outputs": [
    {
     "name": "stdout",
     "output_type": "stream",
     "text": [
      "Record updated successfully...\n"
     ]
    }
   ],
   "source": [
    "import mysql.connector  \n",
    "mysqldb=mysql.connector.connect(host=\"localhost\",user=\"root\",password=\"Lav\",database=\"dbpython\")#established connection between your database  \n",
    "mycursor=mysqldb.cursor()#cursor() method create a cursor object  \n",
    "try:  \n",
    "   mycursor.execute(\"UPDATE student SET name='Ramu', marks=100 WHERE roll=1\")#Execute SQL Query to update record\n",
    "   mysqldb.commit() # Commit is used for your changes in the database  \n",
    "   print('Record updated successfully...')   \n",
    "except:   \n",
    "   # rollback used for if any error  \n",
    "   mysqldb.rollback()  \n",
    "mysqldb.close()#Connection Close  "
   ]
  },
  {
   "cell_type": "markdown",
   "id": "33e09c50",
   "metadata": {},
   "source": [
    "## Delete record"
   ]
  },
  {
   "cell_type": "code",
   "execution_count": 14,
   "id": "5c318f81",
   "metadata": {},
   "outputs": [
    {
     "name": "stdout",
     "output_type": "stream",
     "text": [
      "Record deteted successfully...\n"
     ]
    }
   ],
   "source": [
    "import mysql.connector   \n",
    "mysqldb=mysql.connector.connect(host=\"localhost\",user=\"root\",password=\"Lav\",database=\"dbpython\")#established connection between your database  \n",
    "mycursor=mysqldb.cursor()#cursor() method create a cursor object   \n",
    "try:   \n",
    "   mycursor.execute(\"DELETE FROM student WHERE roll=3\")#Execute SQL Query to detete a record   \n",
    "   mysqldb.commit() # Commit is used for your changes in the database  \n",
    "   print('Record deteted successfully...')  \n",
    "except:  \n",
    "   # rollback used for if any error  \n",
    "   mysqldb.rollback()  \n",
    "mysqldb.close()#Connection Close "
   ]
  },
  {
   "cell_type": "code",
   "execution_count": null,
   "id": "a5e9a272",
   "metadata": {},
   "outputs": [],
   "source": []
  }
 ],
 "metadata": {
  "kernelspec": {
   "display_name": "Python 3",
   "language": "python",
   "name": "python3"
  },
  "language_info": {
   "codemirror_mode": {
    "name": "ipython",
    "version": 3
   },
   "file_extension": ".py",
   "mimetype": "text/x-python",
   "name": "python",
   "nbconvert_exporter": "python",
   "pygments_lexer": "ipython3",
   "version": "3.8.8"
  }
 },
 "nbformat": 4,
 "nbformat_minor": 5
}
