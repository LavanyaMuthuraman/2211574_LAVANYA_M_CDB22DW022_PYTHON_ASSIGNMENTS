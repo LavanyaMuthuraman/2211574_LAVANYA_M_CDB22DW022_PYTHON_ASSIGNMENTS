{
  "nbformat": 4,
  "nbformat_minor": 0,
  "metadata": {
    "colab": {
      "name": "string_count.ipynb",
      "provenance": [],
      "authorship_tag": "ABX9TyPEblEEfsg3CrhEZdXg5RjY",
      "include_colab_link": true
    },
    "kernelspec": {
      "name": "python3",
      "display_name": "Python 3"
    },
    "language_info": {
      "name": "python"
    }
  },
  "cells": [
    {
      "cell_type": "markdown",
      "metadata": {
        "id": "view-in-github",
        "colab_type": "text"
      },
      "source": [
        "<a href=\"https://colab.research.google.com/github/LavanyaMuthuraman/Python/blob/main/string_count.ipynb\" target=\"_parent\"><img src=\"https://colab.research.google.com/assets/colab-badge.svg\" alt=\"Open In Colab\"/></a>"
      ]
    },
    {
      "cell_type": "code",
      "execution_count": 1,
      "metadata": {
        "colab": {
          "base_uri": "https://localhost:8080/"
        },
        "id": "iMTlyvos4es7",
        "outputId": "11262573-da54-4fa9-c72d-b8a9f001cf09"
      },
      "outputs": [
        {
          "name": "stdout",
          "output_type": "stream",
          "text": [
            "Please enter any string: hello how are you? how are the potatoes?\n"
          ]
        }
      ],
      "source": [
        "mystr = input(\"Please enter any string: \")\n",
        "words = []"
      ]
    },
    {
      "cell_type": "code",
      "source": [
        "words = mystr.split()\n",
        "frequency = [words.count(i) for i in words]"
      ],
      "metadata": {
        "id": "Yq_CunrQ5S7q"
      },
      "execution_count": 2,
      "outputs": []
    },
    {
      "cell_type": "code",
      "source": [
        "mydict = dict(zip(words,frequency))\n",
        "print(\"Dictionary Items : \", mydict) "
      ],
      "metadata": {
        "colab": {
          "base_uri": "https://localhost:8080/"
        },
        "id": "FyLHggzH5Oae",
        "outputId": "323d23a2-35f2-4c10-db3c-06dd2462e81f"
      },
      "execution_count": 3,
      "outputs": [
        {
          "output_type": "stream",
          "name": "stdout",
          "text": [
            "Dictionary Items :  {'hello': 1, 'how': 2, 'are': 2, 'you?': 1, 'the': 1, 'potatoes?': 1}\n"
          ]
        }
      ]
    }
  ]
}