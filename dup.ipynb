{
  "nbformat": 4,
  "nbformat_minor": 0,
  "metadata": {
    "colab": {
      "name": "dup.ipynb",
      "provenance": [],
      "authorship_tag": "ABX9TyM4bnupWOcHG+RFwRLc4FlJ",
      "include_colab_link": true
    },
    "kernelspec": {
      "name": "python3",
      "display_name": "Python 3"
    },
    "language_info": {
      "name": "python"
    }
  },
  "cells": [
    {
      "cell_type": "markdown",
      "metadata": {
        "id": "view-in-github",
        "colab_type": "text"
      },
      "source": [
        "<a href=\"https://colab.research.google.com/github/LavanyaMuthuraman/Python/blob/main/dup.ipynb\" target=\"_parent\"><img src=\"https://colab.research.google.com/assets/colab-badge.svg\" alt=\"Open In Colab\"/></a>"
      ]
    },
    {
      "cell_type": "code",
      "execution_count": 2,
      "metadata": {
        "id": "XPeLH9zkoRb_"
      },
      "outputs": [],
      "source": [
        "def num_duplicate():\n",
        "  list_1 = [x for x in input(\"Enter the numbers: \").split(',')]\n",
        "  list_2 = set(list_1)\n",
        "  print([int(i) for i in list_2])"
      ]
    },
    {
      "cell_type": "code",
      "source": [
        "num_duplicate()"
      ],
      "metadata": {
        "colab": {
          "base_uri": "https://localhost:8080/"
        },
        "id": "YyjnvFO-qQfl",
        "outputId": "c3952e2b-76ff-4ef4-e0ab-dc4019d13034"
      },
      "execution_count": 3,
      "outputs": [
        {
          "output_type": "stream",
          "name": "stdout",
          "text": [
            "Enter the numbers: 78,56,89,34,89\n",
            "[89, 56, 78, 34]\n"
          ]
        }
      ]
    }
  ]
}