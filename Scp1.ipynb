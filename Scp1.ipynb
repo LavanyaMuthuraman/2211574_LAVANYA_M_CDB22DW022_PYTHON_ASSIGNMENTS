{
  "nbformat": 4,
  "nbformat_minor": 0,
  "metadata": {
    "colab": {
      "name": "Scp1.ipynb",
      "provenance": [],
      "authorship_tag": "ABX9TyNlODyGnJXPbK55sNxe5F27",
      "include_colab_link": true
    },
    "kernelspec": {
      "name": "python3",
      "display_name": "Python 3"
    },
    "language_info": {
      "name": "python"
    }
  },
  "cells": [
    {
      "cell_type": "markdown",
      "metadata": {
        "id": "view-in-github",
        "colab_type": "text"
      },
      "source": [
        "<a href=\"https://colab.research.google.com/github/LavanyaMuthuraman/Python/blob/main/Scp1.ipynb\" target=\"_parent\"><img src=\"https://colab.research.google.com/assets/colab-badge.svg\" alt=\"Open In Colab\"/></a>"
      ]
    },
    {
      "cell_type": "code",
      "execution_count": null,
      "metadata": {
        "id": "Y6dvgsppnjSb"
      },
      "outputs": [],
      "source": [
        "n1= input(\"Enter the number:\")\n",
        "n2 = input(\"Enter the number:\")\n",
        "\n",
        "if n1>n2:\n",
        "  print(n1 is larger )\n",
        "else:\n",
        "  print(n2 is smaller)"
      ]
    }
  ]
}