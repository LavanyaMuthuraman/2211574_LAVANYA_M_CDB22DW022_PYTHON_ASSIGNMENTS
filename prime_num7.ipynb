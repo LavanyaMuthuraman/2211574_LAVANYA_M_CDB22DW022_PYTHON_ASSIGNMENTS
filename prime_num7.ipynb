{
  "nbformat": 4,
  "nbformat_minor": 0,
  "metadata": {
    "colab": {
      "name": "prime_num7.ipynb",
      "provenance": [],
      "authorship_tag": "ABX9TyNLKtxqhJVnPhMVvFGlvj+H",
      "include_colab_link": true
    },
    "kernelspec": {
      "name": "python3",
      "display_name": "Python 3"
    },
    "language_info": {
      "name": "python"
    }
  },
  "cells": [
    {
      "cell_type": "markdown",
      "metadata": {
        "id": "view-in-github",
        "colab_type": "text"
      },
      "source": [
        "<a href=\"https://colab.research.google.com/github/LavanyaMuthuraman/Python/blob/main/prime_num7.ipynb\" target=\"_parent\"><img src=\"https://colab.research.google.com/assets/colab-badge.svg\" alt=\"Open In Colab\"/></a>"
      ]
    },
    {
      "cell_type": "code",
      "execution_count": 6,
      "metadata": {
        "id": "_eQ4xvc91A5e"
      },
      "outputs": [],
      "source": [
        "def pri_num():\n",
        "  num = int(input('Enter the number here:'))\n",
        "  for i in range(2,num):\n",
        "    if (num%i) == 0:\n",
        "      return 'The entered number is not a prime number'\n",
        "  return 'The entered number is a prime number'"
      ]
    },
    {
      "cell_type": "code",
      "source": [
        "pri_num()"
      ],
      "metadata": {
        "colab": {
          "base_uri": "https://localhost:8080/",
          "height": 52
        },
        "id": "yE545dYa1PWF",
        "outputId": "c768ab15-26e8-4175-f6b6-5c1b0b76c5a0"
      },
      "execution_count": 8,
      "outputs": [
        {
          "name": "stdout",
          "output_type": "stream",
          "text": [
            "Enter the number here:12\n"
          ]
        },
        {
          "output_type": "execute_result",
          "data": {
            "text/plain": [
              "'The entered number is not a prime number'"
            ],
            "application/vnd.google.colaboratory.intrinsic+json": {
              "type": "string"
            }
          },
          "metadata": {},
          "execution_count": 8
        }
      ]
    },
    {
      "cell_type": "code",
      "source": [
        "pri_num()"
      ],
      "metadata": {
        "colab": {
          "base_uri": "https://localhost:8080/",
          "height": 52
        },
        "id": "W-Z5B9_q1b4y",
        "outputId": "1eabddea-2508-40a6-e290-03a5e9c6cb36"
      },
      "execution_count": 9,
      "outputs": [
        {
          "name": "stdout",
          "output_type": "stream",
          "text": [
            "Enter the number here:11\n"
          ]
        },
        {
          "output_type": "execute_result",
          "data": {
            "text/plain": [
              "'The entered number is a prime number'"
            ],
            "application/vnd.google.colaboratory.intrinsic+json": {
              "type": "string"
            }
          },
          "metadata": {},
          "execution_count": 9
        }
      ]
    }
  ]
}