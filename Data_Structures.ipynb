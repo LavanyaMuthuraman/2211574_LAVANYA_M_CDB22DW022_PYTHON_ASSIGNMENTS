{
  "nbformat": 4,
  "nbformat_minor": 0,
  "metadata": {
    "colab": {
      "provenance": [],
      "collapsed_sections": [],
      "authorship_tag": "ABX9TyOrF+Vr6jn93U31elpyhx4K",
      "include_colab_link": true
    },
    "kernelspec": {
      "name": "python3",
      "display_name": "Python 3"
    },
    "language_info": {
      "name": "python"
    }
  },
  "cells": [
    {
      "cell_type": "markdown",
      "metadata": {
        "id": "view-in-github",
        "colab_type": "text"
      },
      "source": [
        "<a href=\"https://colab.research.google.com/github/LavanyaMuthuraman/2211574_LAVANYA_M_CDB22DW022_PYTHON_ASSIGNMENTS/blob/main/Data_Structures.ipynb\" target=\"_parent\"><img src=\"https://colab.research.google.com/assets/colab-badge.svg\" alt=\"Open In Colab\"/></a>"
      ]
    },
    {
      "cell_type": "markdown",
      "source": [
        "# **DATA STRUCTURES**"
      ],
      "metadata": {
        "id": "8YiBsG_SrWYC"
      }
    },
    {
      "cell_type": "markdown",
      "source": [
        "## **LIST**"
      ],
      "metadata": {
        "id": "MXLgdZLXGtWf"
      }
    },
    {
      "cell_type": "markdown",
      "source": [
        "*   **List are used to store multiple items in a single variable.**\n",
        "*   **List items are ordered, indexed,changeable, and allow duplicate values.**"
      ],
      "metadata": {
        "id": "FTMGeKoHoQMb"
      }
    },
    {
      "cell_type": "code",
      "source": [
        "mylist = [\"red\", \"blue\", \"green\",76,89,0,56]\n",
        "print(mylist)"
      ],
      "metadata": {
        "colab": {
          "base_uri": "https://localhost:8080/"
        },
        "id": "7dofYqv1ol3K",
        "outputId": "c199df02-db0b-423f-ef17-a88bac494c05"
      },
      "execution_count": null,
      "outputs": [
        {
          "output_type": "stream",
          "name": "stdout",
          "text": [
            "['red', 'blue', 'green', 76, 89, 0, 56]\n"
          ]
        }
      ]
    },
    {
      "cell_type": "markdown",
      "source": [
        "**DIR : The dir() function returns all properties and methods of the specified object, without the values. dir(object)**"
      ],
      "metadata": {
        "id": "aDHcm350HEhB"
      }
    },
    {
      "cell_type": "code",
      "source": [
        "dir(mylist)"
      ],
      "metadata": {
        "colab": {
          "base_uri": "https://localhost:8080/"
        },
        "id": "XvNhRiKu1IPK",
        "outputId": "7610e3cb-166b-47f2-f6cd-39514c0b7551"
      },
      "execution_count": null,
      "outputs": [
        {
          "output_type": "execute_result",
          "data": {
            "text/plain": [
              "['__add__',\n",
              " '__class__',\n",
              " '__contains__',\n",
              " '__delattr__',\n",
              " '__delitem__',\n",
              " '__dir__',\n",
              " '__doc__',\n",
              " '__eq__',\n",
              " '__format__',\n",
              " '__ge__',\n",
              " '__getattribute__',\n",
              " '__getitem__',\n",
              " '__gt__',\n",
              " '__hash__',\n",
              " '__iadd__',\n",
              " '__imul__',\n",
              " '__init__',\n",
              " '__init_subclass__',\n",
              " '__iter__',\n",
              " '__le__',\n",
              " '__len__',\n",
              " '__lt__',\n",
              " '__mul__',\n",
              " '__ne__',\n",
              " '__new__',\n",
              " '__reduce__',\n",
              " '__reduce_ex__',\n",
              " '__repr__',\n",
              " '__reversed__',\n",
              " '__rmul__',\n",
              " '__setattr__',\n",
              " '__setitem__',\n",
              " '__sizeof__',\n",
              " '__str__',\n",
              " '__subclasshook__',\n",
              " 'append',\n",
              " 'clear',\n",
              " 'copy',\n",
              " 'count',\n",
              " 'extend',\n",
              " 'index',\n",
              " 'insert',\n",
              " 'pop',\n",
              " 'remove',\n",
              " 'reverse',\n",
              " 'sort']"
            ]
          },
          "metadata": {},
          "execution_count": 26
        }
      ]
    },
    {
      "cell_type": "markdown",
      "source": [
        "sort(): Sorts the list"
      ],
      "metadata": {
        "id": "ifS1ysftpNFX"
      }
    },
    {
      "cell_type": "code",
      "execution_count": null,
      "metadata": {
        "colab": {
          "base_uri": "https://localhost:8080/"
        },
        "id": "ubjF0IApnkxR",
        "outputId": "7c8f720b-b486-4af2-fe93-39a815a701e2"
      },
      "outputs": [
        {
          "output_type": "stream",
          "name": "stdout",
          "text": [
            "[-7, 1, 3, 3, 7, 9, 98, 98]\n"
          ]
        }
      ],
      "source": [
        "numlist=[1,7,3,9,-7,3,98,98]\n",
        "numlist.sort()\n",
        "print(numlist)"
      ]
    },
    {
      "cell_type": "markdown",
      "source": [
        "reverse(): Reverses the order of the list"
      ],
      "metadata": {
        "id": "mk1fbzlJq_IL"
      }
    },
    {
      "cell_type": "code",
      "source": [
        "numlist=[1,7,3,9,-7,3,98,98]\n",
        "numlist.reverse()\n",
        "print(numlist)"
      ],
      "metadata": {
        "colab": {
          "base_uri": "https://localhost:8080/"
        },
        "id": "RbtkPvXSq3TM",
        "outputId": "5f9319fd-0017-44fb-ca6a-f394687ae2e4"
      },
      "execution_count": null,
      "outputs": [
        {
          "output_type": "stream",
          "name": "stdout",
          "text": [
            "[1, 7, 3, 9, -7, 3, 98, 98]\n"
          ]
        }
      ]
    },
    {
      "cell_type": "markdown",
      "source": [
        "remove():\tRemoves the item with the specified value"
      ],
      "metadata": {
        "id": "ZjuEObSnr668"
      }
    },
    {
      "cell_type": "code",
      "source": [
        "numlist=[1,7,3,9,-7,3,98,98]\n",
        "numlist.remove(1)\n",
        "print(numlist)"
      ],
      "metadata": {
        "colab": {
          "base_uri": "https://localhost:8080/"
        },
        "id": "bC30YYAdsFkZ",
        "outputId": "a51d747a-431d-4301-cdf9-81ff5efe753f"
      },
      "execution_count": null,
      "outputs": [
        {
          "output_type": "stream",
          "name": "stdout",
          "text": [
            "[7, 3, 9, -7, 3, 98, 98]\n"
          ]
        }
      ]
    },
    {
      "cell_type": "markdown",
      "source": [
        "pop():\tRemoves the element at the specified position"
      ],
      "metadata": {
        "id": "ZjpaCfa-sy3F"
      }
    },
    {
      "cell_type": "code",
      "source": [
        "numlist=[1,7,3,9,-7,3,98,98]\n",
        "numlist.pop(1)\n",
        "print(numlist)"
      ],
      "metadata": {
        "colab": {
          "base_uri": "https://localhost:8080/"
        },
        "id": "2zq_7WnpsTBD",
        "outputId": "267ed10f-7f5a-46e2-b695-53fa7f04217d"
      },
      "execution_count": null,
      "outputs": [
        {
          "output_type": "stream",
          "name": "stdout",
          "text": [
            "[1, 3, 9, -7, 3, 98, 98]\n"
          ]
        }
      ]
    },
    {
      "cell_type": "markdown",
      "source": [
        "insert():\tAdds an element at the specified position\n",
        "list.insert(position, element)"
      ],
      "metadata": {
        "id": "tQwD6Be7tENy"
      }
    },
    {
      "cell_type": "code",
      "source": [
        "numlist=[1,7,3,9,-7,3,98,98]\n",
        "numlist.insert(5,100)\n",
        "print(numlist)"
      ],
      "metadata": {
        "colab": {
          "base_uri": "https://localhost:8080/"
        },
        "id": "MKc0MOOPtQxs",
        "outputId": "2c445f71-84a8-4fe0-ffc8-8c058e84ea8d"
      },
      "execution_count": null,
      "outputs": [
        {
          "output_type": "stream",
          "name": "stdout",
          "text": [
            "[1, 7, 3, 9, -7, 100, 3, 98, 98]\n"
          ]
        }
      ]
    },
    {
      "cell_type": "markdown",
      "source": [
        "index():\tReturns the index of the first element with the specified value"
      ],
      "metadata": {
        "id": "l-GLtO3ItAZk"
      }
    },
    {
      "cell_type": "code",
      "source": [
        "numlist=[1,7,3,9,-7,3,98,98]\n",
        "x=numlist.index(1)\n",
        "print(x)"
      ],
      "metadata": {
        "colab": {
          "base_uri": "https://localhost:8080/"
        },
        "id": "Z-VMC7gmtC_8",
        "outputId": "a531ad43-9d9d-4488-a1fe-6ea3938b0363"
      },
      "execution_count": null,
      "outputs": [
        {
          "output_type": "stream",
          "name": "stdout",
          "text": [
            "0\n"
          ]
        }
      ]
    },
    {
      "cell_type": "markdown",
      "source": [
        "extend():Add the elements of a list (or any iterable), to the end of the current list.\n",
        "list.extend(iterable)"
      ],
      "metadata": {
        "id": "yhWSGkm4uoRv"
      }
    },
    {
      "cell_type": "code",
      "source": [
        "numlist=[1,7,3,9,-7,3,98,98]\n",
        "val=(28,\"king\",\"queen\",\"minister\")\n",
        "numlist.extend(val)\n",
        "print(numlist)"
      ],
      "metadata": {
        "colab": {
          "base_uri": "https://localhost:8080/"
        },
        "id": "3zPyj8o5vJW4",
        "outputId": "e566088a-0427-4c70-aab0-544a675abf33"
      },
      "execution_count": null,
      "outputs": [
        {
          "output_type": "stream",
          "name": "stdout",
          "text": [
            "[1, 7, 3, 9, -7, 3, 98, 98, 28, 'king', 'queen', 'minister']\n"
          ]
        }
      ]
    },
    {
      "cell_type": "markdown",
      "source": [
        "count():\tReturns the number of elements with the specified value"
      ],
      "metadata": {
        "id": "7JO85QX5vmRo"
      }
    },
    {
      "cell_type": "code",
      "source": [
        "numlist=[1,7,3,9,-7,3,98,98]\n",
        "x=numlist.count(98)\n",
        "print(x)"
      ],
      "metadata": {
        "colab": {
          "base_uri": "https://localhost:8080/"
        },
        "id": "5ijSPhjJwS2i",
        "outputId": "c516c23e-7365-47a1-9fe2-8ba7fcb3d69b"
      },
      "execution_count": null,
      "outputs": [
        {
          "output_type": "stream",
          "name": "stdout",
          "text": [
            "2\n"
          ]
        }
      ]
    },
    {
      "cell_type": "markdown",
      "source": [
        "copy():\tReturns a copy of the list"
      ],
      "metadata": {
        "id": "lzUVf8mzwZYt"
      }
    },
    {
      "cell_type": "code",
      "source": [
        "numlist=[1,7,3,9,-7,3,98,98]\n",
        "cp=numlist.copy()\n",
        "print(cp)"
      ],
      "metadata": {
        "colab": {
          "base_uri": "https://localhost:8080/"
        },
        "id": "VJnj9h1xwdA0",
        "outputId": "53138f23-0d07-48f1-e69e-15b023bfec0e"
      },
      "execution_count": null,
      "outputs": [
        {
          "output_type": "stream",
          "name": "stdout",
          "text": [
            "[1, 7, 3, 9, -7, 3, 98, 98]\n"
          ]
        }
      ]
    },
    {
      "cell_type": "markdown",
      "source": [
        "clear():\tRemoves all the elements from the list"
      ],
      "metadata": {
        "id": "zdKUdS4_wyO3"
      }
    },
    {
      "cell_type": "code",
      "source": [
        "numlist=[1,7,3,9,-7,3,98,98]\n",
        "numlist.clear()\n",
        "print(numlist)"
      ],
      "metadata": {
        "colab": {
          "base_uri": "https://localhost:8080/"
        },
        "id": "Cp2gpxUxwz2-",
        "outputId": "f5124886-338b-4462-942a-491b1be6ccc9"
      },
      "execution_count": null,
      "outputs": [
        {
          "output_type": "stream",
          "name": "stdout",
          "text": [
            "[]\n"
          ]
        }
      ]
    },
    {
      "cell_type": "markdown",
      "source": [
        "append():\tAdds an element at the end of the list"
      ],
      "metadata": {
        "id": "uPT57OFzHx_j"
      }
    },
    {
      "cell_type": "code",
      "source": [
        "numlist=[1,7,3,9,-7,3,98,98]\n",
        "numlist.append(1000)\n",
        "print(numlist)"
      ],
      "metadata": {
        "colab": {
          "base_uri": "https://localhost:8080/"
        },
        "id": "skDVVklgH1AK",
        "outputId": "4ed09b03-0c56-477c-ebe8-76a2da512bdb"
      },
      "execution_count": null,
      "outputs": [
        {
          "output_type": "stream",
          "name": "stdout",
          "text": [
            "[1, 7, 3, 9, -7, 3, 98, 98, 1000]\n"
          ]
        }
      ]
    },
    {
      "cell_type": "markdown",
      "source": [
        "## **TUPLES**"
      ],
      "metadata": {
        "id": "iUYg7BwZxBiv"
      }
    },
    {
      "cell_type": "markdown",
      "source": [
        "\n",
        "*   **Tuples are used to store multiple items in a single variable.**\n",
        "*   **A tuple is a collection which is ordered and unchangeable.**"
      ],
      "metadata": {
        "id": "eUN-NR5IxZQw"
      }
    },
    {
      "cell_type": "code",
      "source": [
        "mytuple = (\"lav\", 22, True, \"apple\", \"female\")\n",
        "print(mytuple)"
      ],
      "metadata": {
        "colab": {
          "base_uri": "https://localhost:8080/"
        },
        "id": "d22CF3sKx0Cf",
        "outputId": "4ac17573-8f2c-4d09-f2d4-54c5320f6952"
      },
      "execution_count": null,
      "outputs": [
        {
          "output_type": "stream",
          "name": "stdout",
          "text": [
            "('lav', 22, True, 'apple', 'female')\n"
          ]
        }
      ]
    },
    {
      "cell_type": "code",
      "source": [
        "dir(mytuple)"
      ],
      "metadata": {
        "colab": {
          "base_uri": "https://localhost:8080/"
        },
        "id": "piE8RGE4GWXP",
        "outputId": "a0702c3a-3d1a-4439-c53e-0183daede579"
      },
      "execution_count": null,
      "outputs": [
        {
          "output_type": "execute_result",
          "data": {
            "text/plain": [
              "['__add__',\n",
              " '__class__',\n",
              " '__contains__',\n",
              " '__delattr__',\n",
              " '__dir__',\n",
              " '__doc__',\n",
              " '__eq__',\n",
              " '__format__',\n",
              " '__ge__',\n",
              " '__getattribute__',\n",
              " '__getitem__',\n",
              " '__getnewargs__',\n",
              " '__gt__',\n",
              " '__hash__',\n",
              " '__init__',\n",
              " '__init_subclass__',\n",
              " '__iter__',\n",
              " '__le__',\n",
              " '__len__',\n",
              " '__lt__',\n",
              " '__mul__',\n",
              " '__ne__',\n",
              " '__new__',\n",
              " '__reduce__',\n",
              " '__reduce_ex__',\n",
              " '__repr__',\n",
              " '__rmul__',\n",
              " '__setattr__',\n",
              " '__sizeof__',\n",
              " '__str__',\n",
              " '__subclasshook__',\n",
              " 'count',\n",
              " 'index']"
            ]
          },
          "metadata": {},
          "execution_count": 28
        }
      ]
    },
    {
      "cell_type": "markdown",
      "source": [
        "count():\tReturns the number of times a specified value occurs in a tuple"
      ],
      "metadata": {
        "id": "Jha0kI6-xVBN"
      }
    },
    {
      "cell_type": "code",
      "source": [
        "numtuple = (56, 83, 97,98, 97, 95, 94,96,98,5)\n",
        "x = numtuple.count(98)\n",
        "print(x)"
      ],
      "metadata": {
        "colab": {
          "base_uri": "https://localhost:8080/"
        },
        "id": "Kg40EQmmyMZO",
        "outputId": "52785f7c-ade7-4f4f-d898-65c162868f33"
      },
      "execution_count": null,
      "outputs": [
        {
          "output_type": "stream",
          "name": "stdout",
          "text": [
            "2\n"
          ]
        }
      ]
    },
    {
      "cell_type": "markdown",
      "source": [
        "index():\tSearches the tuple for a specified value and returns the position of where it was found"
      ],
      "metadata": {
        "id": "R1uWi6ajzQdm"
      }
    },
    {
      "cell_type": "code",
      "source": [
        "numtuple = (56, 83, 97,98, 97, 95, 94,96,98,5)\n",
        "x = numtuple.index(56)\n",
        "print(x)"
      ],
      "metadata": {
        "colab": {
          "base_uri": "https://localhost:8080/"
        },
        "id": "XTa7bf-szXaX",
        "outputId": "e1964c44-5291-4f01-a0bc-2b69f8eb1e0f"
      },
      "execution_count": null,
      "outputs": [
        {
          "output_type": "stream",
          "name": "stdout",
          "text": [
            "0\n"
          ]
        }
      ]
    },
    {
      "cell_type": "markdown",
      "source": [
        "## **SET**"
      ],
      "metadata": {
        "id": "RaBfawek1XY5"
      }
    },
    {
      "cell_type": "markdown",
      "source": [
        "*   **Sets are used to store multiple items in a single variable.**\n",
        "*   **A set is a collection which is unordered, unchangeable, and unindexed**.\n",
        "*   **Sets cannot have two items with the same value.**\n",
        "\n",
        "\n"
      ],
      "metadata": {
        "id": "86DLgY-gKRtB"
      }
    },
    {
      "cell_type": "code",
      "source": [
        "myset = {\"lav\", 22,22, True,\"india\",\"apple\", \"female\"}\n",
        "print(myset)"
      ],
      "metadata": {
        "colab": {
          "base_uri": "https://localhost:8080/"
        },
        "id": "aZqiMMSfKP0x",
        "outputId": "45a5214a-2205-4a05-bdad-e7dc521d8ed7"
      },
      "execution_count": null,
      "outputs": [
        {
          "output_type": "stream",
          "name": "stdout",
          "text": [
            "{True, 'female', 'lav', 'india', 22, 'apple'}\n"
          ]
        }
      ]
    },
    {
      "cell_type": "code",
      "source": [
        "dir(myset)"
      ],
      "metadata": {
        "colab": {
          "base_uri": "https://localhost:8080/"
        },
        "id": "ocNvXQLOcT9J",
        "outputId": "9f68b9f3-4b57-4308-a209-366a4d285d03"
      },
      "execution_count": null,
      "outputs": [
        {
          "output_type": "execute_result",
          "data": {
            "text/plain": [
              "['__and__',\n",
              " '__class__',\n",
              " '__contains__',\n",
              " '__delattr__',\n",
              " '__dir__',\n",
              " '__doc__',\n",
              " '__eq__',\n",
              " '__format__',\n",
              " '__ge__',\n",
              " '__getattribute__',\n",
              " '__gt__',\n",
              " '__hash__',\n",
              " '__iand__',\n",
              " '__init__',\n",
              " '__init_subclass__',\n",
              " '__ior__',\n",
              " '__isub__',\n",
              " '__iter__',\n",
              " '__ixor__',\n",
              " '__le__',\n",
              " '__len__',\n",
              " '__lt__',\n",
              " '__ne__',\n",
              " '__new__',\n",
              " '__or__',\n",
              " '__rand__',\n",
              " '__reduce__',\n",
              " '__reduce_ex__',\n",
              " '__repr__',\n",
              " '__ror__',\n",
              " '__rsub__',\n",
              " '__rxor__',\n",
              " '__setattr__',\n",
              " '__sizeof__',\n",
              " '__str__',\n",
              " '__sub__',\n",
              " '__subclasshook__',\n",
              " '__xor__',\n",
              " 'add',\n",
              " 'clear',\n",
              " 'copy',\n",
              " 'difference',\n",
              " 'difference_update',\n",
              " 'discard',\n",
              " 'intersection',\n",
              " 'intersection_update',\n",
              " 'isdisjoint',\n",
              " 'issubset',\n",
              " 'issuperset',\n",
              " 'pop',\n",
              " 'remove',\n",
              " 'symmetric_difference',\n",
              " 'symmetric_difference_update',\n",
              " 'union',\n",
              " 'update']"
            ]
          },
          "metadata": {},
          "execution_count": 83
        }
      ]
    },
    {
      "cell_type": "markdown",
      "source": [
        "add():\tAdds an element to the set"
      ],
      "metadata": {
        "id": "yPphL_DiLrW-"
      }
    },
    {
      "cell_type": "code",
      "source": [
        "myset = {\"lav\", 22,22, True,\"india\",\"apple\", \"female\"}\n",
        "myset.add(\"anya\")\n",
        "print(myset)"
      ],
      "metadata": {
        "colab": {
          "base_uri": "https://localhost:8080/"
        },
        "id": "Lw5SDgYAKJ--",
        "outputId": "b210f487-910c-4ca2-cb3c-82dbb6ff3437"
      },
      "execution_count": null,
      "outputs": [
        {
          "output_type": "stream",
          "name": "stdout",
          "text": [
            "{True, 'anya', 'female', 'lav', 'india', 22, 'apple'}\n"
          ]
        }
      ]
    },
    {
      "cell_type": "markdown",
      "source": [
        "clear():\tRemoves all the elements from the set"
      ],
      "metadata": {
        "id": "ffyMZ2maPBTq"
      }
    },
    {
      "cell_type": "code",
      "source": [
        "myset = {\"lav\", 22,22, True,\"india\",\"apple\", \"female\"}\n",
        "myset.clear()\n",
        "print(myset)"
      ],
      "metadata": {
        "colab": {
          "base_uri": "https://localhost:8080/"
        },
        "id": "zNbdqZtdPS5P",
        "outputId": "ef08cc25-4809-4410-f326-d34fed4bd391"
      },
      "execution_count": null,
      "outputs": [
        {
          "output_type": "stream",
          "name": "stdout",
          "text": [
            "set()\n"
          ]
        }
      ]
    },
    {
      "cell_type": "markdown",
      "source": [
        "copy():\tReturns a copy of the set"
      ],
      "metadata": {
        "id": "Cp4GJbUtPi_p"
      }
    },
    {
      "cell_type": "code",
      "source": [
        "myset = {\"lav\", 22,22, True,\"india\",\"apple\", \"female\"}\n",
        "cp=myset.copy()\n",
        "print(cp)"
      ],
      "metadata": {
        "colab": {
          "base_uri": "https://localhost:8080/"
        },
        "id": "y7iQj5b2Phms",
        "outputId": "f044c28f-d696-46db-9924-6b24f5880848"
      },
      "execution_count": null,
      "outputs": [
        {
          "output_type": "stream",
          "name": "stdout",
          "text": [
            "{True, 'lav', 'india', 22, 'apple', 'female'}\n"
          ]
        }
      ]
    },
    {
      "cell_type": "markdown",
      "source": [
        "difference():\tReturns a set containing the difference between two or more sets"
      ],
      "metadata": {
        "id": "IYKTws2HP4Wm"
      }
    },
    {
      "cell_type": "code",
      "source": [
        "a = {\"chennai\", \"mumbai\", \"delhi\"}\n",
        "b = {\"pune\", \"noida\", \"chennai\"}\n",
        "\n",
        "c = a.difference(b) \n",
        "d = b.difference(a)\n",
        "print(c)\n",
        "print(d)\n"
      ],
      "metadata": {
        "colab": {
          "base_uri": "https://localhost:8080/"
        },
        "id": "9Vmd9uo4P54X",
        "outputId": "d5189c38-a86c-4a18-d4e7-40ffafde82c4"
      },
      "execution_count": null,
      "outputs": [
        {
          "output_type": "stream",
          "name": "stdout",
          "text": [
            "{'mumbai', 'delhi'}\n",
            "{'pune', 'noida'}\n"
          ]
        }
      ]
    },
    {
      "cell_type": "markdown",
      "source": [
        "difference_update():\tRemoves the items in this set that are also included in another, specified set"
      ],
      "metadata": {
        "id": "NDClsA_TQ5wA"
      }
    },
    {
      "cell_type": "code",
      "source": [
        "a = {\"chennai\", \"mumbai\", \"delhi\"}\n",
        "b = {\"pune\", \"noida\", \"chennai\"}\n",
        "\n",
        "a.difference_update(b) \n",
        "print(a)"
      ],
      "metadata": {
        "colab": {
          "base_uri": "https://localhost:8080/"
        },
        "id": "6rOfGRSbRZtG",
        "outputId": "3bd0d902-c350-411e-cc38-429125ac1601"
      },
      "execution_count": null,
      "outputs": [
        {
          "output_type": "stream",
          "name": "stdout",
          "text": [
            "{'mumbai', 'delhi'}\n"
          ]
        }
      ]
    },
    {
      "cell_type": "markdown",
      "source": [
        "discard():\tRemove the specified item"
      ],
      "metadata": {
        "id": "B0IrWgNgRDmo"
      }
    },
    {
      "cell_type": "code",
      "source": [
        "myset = {\"chennai\", \"mumbai\", \"delhi\"}\n",
        "myset.discard (\"delhi\")\n",
        "print(myset)"
      ],
      "metadata": {
        "colab": {
          "base_uri": "https://localhost:8080/"
        },
        "id": "LX99RL1WSRrc",
        "outputId": "1e6df497-d29e-4a2f-f783-2940adcf86e8"
      },
      "execution_count": null,
      "outputs": [
        {
          "output_type": "stream",
          "name": "stdout",
          "text": [
            "{'mumbai', 'chennai'}\n"
          ]
        }
      ]
    },
    {
      "cell_type": "markdown",
      "source": [
        "intersection():\tReturns a set, that is the intersection of two other sets"
      ],
      "metadata": {
        "id": "tF5z3qk0UCb4"
      }
    },
    {
      "cell_type": "code",
      "source": [
        "a = {\"chennai\", \"mumbai\", \"delhi\"}\n",
        "b = {\"pune\", \"noida\", \"chennai\"}\n",
        "\n",
        "c = a.intersection(b) \n",
        "print(c)\n"
      ],
      "metadata": {
        "colab": {
          "base_uri": "https://localhost:8080/"
        },
        "id": "aq9N1DpdUIFz",
        "outputId": "f2a0ee02-1bc6-40f7-dacd-335cea132df7"
      },
      "execution_count": null,
      "outputs": [
        {
          "output_type": "stream",
          "name": "stdout",
          "text": [
            "{'chennai'}\n"
          ]
        }
      ]
    },
    {
      "cell_type": "markdown",
      "source": [
        "intersection_update():\tRemoves the items in this set that are not present in other, specified set(s)"
      ],
      "metadata": {
        "id": "3LwW3RWsUbD0"
      }
    },
    {
      "cell_type": "code",
      "source": [
        "a = {\"chennai\", \"mumbai\", \"delhi\"}\n",
        "b = {\"pune\", \"noida\", \"chennai\"}\n",
        "\n",
        "a.intersection_update(b) \n",
        "print(a)\n"
      ],
      "metadata": {
        "colab": {
          "base_uri": "https://localhost:8080/"
        },
        "id": "rrqluVx1UeDz",
        "outputId": "e6df0465-feff-4111-9c99-851d1ec5c426"
      },
      "execution_count": null,
      "outputs": [
        {
          "output_type": "stream",
          "name": "stdout",
          "text": [
            "{'chennai'}\n"
          ]
        }
      ]
    },
    {
      "cell_type": "markdown",
      "source": [
        "isdisjoint():\tReturns whether two sets have a intersection or not"
      ],
      "metadata": {
        "id": "qpzjzRYWWDwy"
      }
    },
    {
      "cell_type": "code",
      "source": [
        "a = {\"chennai\", \"mumbai\", \"delhi\"}\n",
        "b = {\"pune\", \"noida\", \"bangalore\"}\n",
        "c=a.isdisjoint(b) \n",
        "print(c)"
      ],
      "metadata": {
        "colab": {
          "base_uri": "https://localhost:8080/"
        },
        "id": "NJow-GlmWBWP",
        "outputId": "8d851025-c7b2-45fe-b110-c411b000d0f1"
      },
      "execution_count": null,
      "outputs": [
        {
          "output_type": "execute_result",
          "data": {
            "text/plain": [
              "True"
            ]
          },
          "metadata": {},
          "execution_count": 62
        }
      ]
    },
    {
      "cell_type": "markdown",
      "source": [
        "issubset():\tReturns whether another set contains this set or not"
      ],
      "metadata": {
        "id": "TArAbKUSW_bP"
      }
    },
    {
      "cell_type": "code",
      "source": [
        "x = {\"a\", \"b\", \"c\"}\n",
        "y = {\"f\", \"e\", \"d\", \"c\", \"b\", \"a\"}\n",
        "z = x.issubset(y) \n",
        "print(z)"
      ],
      "metadata": {
        "colab": {
          "base_uri": "https://localhost:8080/"
        },
        "id": "wDO1IlmqXLsi",
        "outputId": "43d815f2-4a91-4efc-8f62-acab39ae79a2"
      },
      "execution_count": null,
      "outputs": [
        {
          "output_type": "stream",
          "name": "stdout",
          "text": [
            "True\n"
          ]
        }
      ]
    },
    {
      "cell_type": "markdown",
      "source": [
        "issuperset():\tReturns whether this set contains another set or not"
      ],
      "metadata": {
        "id": "_yuYhKBKXUAI"
      }
    },
    {
      "cell_type": "code",
      "source": [
        "x = {\"f\", \"e\", \"d\", \"c\", \"b\", \"a\"}\n",
        "y = {\"a\", \"b\", \"c\"}\n",
        "z = x.issuperset(y)\n",
        "print(z)"
      ],
      "metadata": {
        "colab": {
          "base_uri": "https://localhost:8080/"
        },
        "id": "o2KmGOSfXTBs",
        "outputId": "4061b029-beac-441b-e39c-2299c5f81505"
      },
      "execution_count": null,
      "outputs": [
        {
          "output_type": "stream",
          "name": "stdout",
          "text": [
            "True\n"
          ]
        }
      ]
    },
    {
      "cell_type": "markdown",
      "source": [
        "pop(): removes a random item from the set."
      ],
      "metadata": {
        "id": "alygmHpkXuvY"
      }
    },
    {
      "cell_type": "code",
      "source": [
        "a = {\"chennai\", \"mumbai\", \"delhi\"}\n",
        "a.pop()\n",
        "print(a)"
      ],
      "metadata": {
        "colab": {
          "base_uri": "https://localhost:8080/"
        },
        "id": "dNz_drU6XwTi",
        "outputId": "d096287c-314b-4003-b0a5-f86ed9bf871c"
      },
      "execution_count": null,
      "outputs": [
        {
          "output_type": "stream",
          "name": "stdout",
          "text": [
            "{'chennai', 'delhi'}\n"
          ]
        }
      ]
    },
    {
      "cell_type": "markdown",
      "source": [
        "remove():\tRemoves the specified element"
      ],
      "metadata": {
        "id": "A5cQIlxwYpHb"
      }
    },
    {
      "cell_type": "code",
      "source": [
        "a = {\"chennai\", \"mumbai\", \"delhi\"}\n",
        "a.remove(\"delhi\")\n",
        "print(a)"
      ],
      "metadata": {
        "colab": {
          "base_uri": "https://localhost:8080/"
        },
        "id": "6Mj30UgyYqkB",
        "outputId": "4718393e-a888-4159-bbe4-a60bffca27c4"
      },
      "execution_count": null,
      "outputs": [
        {
          "output_type": "stream",
          "name": "stdout",
          "text": [
            "{'mumbai', 'chennai'}\n"
          ]
        }
      ]
    },
    {
      "cell_type": "markdown",
      "source": [
        "symmetric_difference():\tReturns a set with the symmetric differences of two sets"
      ],
      "metadata": {
        "id": "2NaVYCPOZDOp"
      }
    },
    {
      "cell_type": "code",
      "source": [
        "a = {\"chennai\", \"mumbai\", \"delhi\"}\n",
        "b = {\"pune\", \"noida\", \"chennai\"}\n",
        "c=a.symmetric_difference(b) \n",
        "print(c)"
      ],
      "metadata": {
        "colab": {
          "base_uri": "https://localhost:8080/"
        },
        "id": "1iVZ7haOZRWr",
        "outputId": "b3b80209-dfae-4a55-efa0-f590d2a114e1"
      },
      "execution_count": null,
      "outputs": [
        {
          "output_type": "stream",
          "name": "stdout",
          "text": [
            "{'mumbai', 'pune', 'delhi', 'noida'}\n"
          ]
        }
      ]
    },
    {
      "cell_type": "markdown",
      "source": [
        "symmetric_difference_update():\tinserts the symmetric differences from this set and another"
      ],
      "metadata": {
        "id": "9pTkz9guZlfl"
      }
    },
    {
      "cell_type": "code",
      "source": [
        "a = {\"chennai\", \"mumbai\", \"delhi\"}\n",
        "b = {\"pune\", \"noida\", \"chennai\"}\n",
        "a.symmetric_difference_update(b) \n",
        "b.symmetric_difference_update(a) \n",
        "print(a)\n",
        "print(b)"
      ],
      "metadata": {
        "colab": {
          "base_uri": "https://localhost:8080/"
        },
        "id": "pFINQwZDZomA",
        "outputId": "768ca295-04ae-4f98-9955-df58b9b45c44"
      },
      "execution_count": null,
      "outputs": [
        {
          "output_type": "stream",
          "name": "stdout",
          "text": [
            "{'mumbai', 'noida', 'pune', 'delhi'}\n",
            "{'mumbai', 'chennai', 'delhi'}\n"
          ]
        }
      ]
    },
    {
      "cell_type": "markdown",
      "source": [
        "union():\tReturn a set containing the union of sets"
      ],
      "metadata": {
        "id": "u4FoyL1-a9Fi"
      }
    },
    {
      "cell_type": "code",
      "source": [
        "a = {\"chennai\", \"mumbai\", \"delhi\",\"chennai\" }\n",
        "b = {\"pune\", \"noida\", \"chennai\"}\n",
        "a.union(b)"
      ],
      "metadata": {
        "colab": {
          "base_uri": "https://localhost:8080/"
        },
        "id": "Zo_K8jnZa-s5",
        "outputId": "871cd301-a464-44a4-8ed0-cb45b0c1989b"
      },
      "execution_count": null,
      "outputs": [
        {
          "output_type": "execute_result",
          "data": {
            "text/plain": [
              "{'chennai', 'delhi', 'mumbai', 'noida', 'pune'}"
            ]
          },
          "metadata": {},
          "execution_count": 79
        }
      ]
    },
    {
      "cell_type": "markdown",
      "source": [
        "update():\tUpdate the set with the union of this set and others"
      ],
      "metadata": {
        "id": "ytIMekLjbdoT"
      }
    },
    {
      "cell_type": "code",
      "source": [
        "a = {\"chennai\", \"mumbai\", \"delhi\",\"chennai\" }\n",
        "b = {\"pune\", \"noida\", \"chennai\"}\n",
        "a.update(b)\n",
        "print(a)"
      ],
      "metadata": {
        "colab": {
          "base_uri": "https://localhost:8080/"
        },
        "id": "DUQWqFqsbfxZ",
        "outputId": "2521b7c7-7db7-4fe8-a0ab-fa2aa3685682"
      },
      "execution_count": null,
      "outputs": [
        {
          "output_type": "stream",
          "name": "stdout",
          "text": [
            "{'mumbai', 'pune', 'delhi', 'noida', 'chennai'}\n"
          ]
        }
      ]
    },
    {
      "cell_type": "markdown",
      "source": [
        "## **DICTIONARY**"
      ],
      "metadata": {
        "id": "dH50kpY5c-3R"
      }
    },
    {
      "cell_type": "markdown",
      "source": [
        "*   **Dictionary items are ordered, changeable, and does not allow duplicates.**\n",
        "*   **Dictionary items are presented in key:value pairs, and can be referred to by using the key name.**"
      ],
      "metadata": {
        "id": "pm2Tk-kddM-c"
      }
    },
    {
      "cell_type": "code",
      "source": [
        "mydict = {\n",
        "  \"key1\": \"blue\",\n",
        "  \"key2\": \"sky\",\n",
        "  \"key3\": 100\n",
        "}\n",
        "print(mydict[\"key1\"])"
      ],
      "metadata": {
        "colab": {
          "base_uri": "https://localhost:8080/"
        },
        "id": "CDUK8fDfdQwy",
        "outputId": "19b3b546-80e1-4d81-eb85-39a79c39c98d"
      },
      "execution_count": null,
      "outputs": [
        {
          "output_type": "stream",
          "name": "stdout",
          "text": [
            "blue\n"
          ]
        }
      ]
    },
    {
      "cell_type": "code",
      "source": [
        "dir(mydict)"
      ],
      "metadata": {
        "colab": {
          "base_uri": "https://localhost:8080/"
        },
        "id": "iMhkKFn-fbm2",
        "outputId": "c576ccd4-5ae1-4d1d-df25-56fe5b38a29f"
      },
      "execution_count": null,
      "outputs": [
        {
          "output_type": "execute_result",
          "data": {
            "text/plain": [
              "['__class__',\n",
              " '__contains__',\n",
              " '__delattr__',\n",
              " '__delitem__',\n",
              " '__dir__',\n",
              " '__doc__',\n",
              " '__eq__',\n",
              " '__format__',\n",
              " '__ge__',\n",
              " '__getattribute__',\n",
              " '__getitem__',\n",
              " '__gt__',\n",
              " '__hash__',\n",
              " '__init__',\n",
              " '__init_subclass__',\n",
              " '__iter__',\n",
              " '__le__',\n",
              " '__len__',\n",
              " '__lt__',\n",
              " '__ne__',\n",
              " '__new__',\n",
              " '__reduce__',\n",
              " '__reduce_ex__',\n",
              " '__repr__',\n",
              " '__setattr__',\n",
              " '__setitem__',\n",
              " '__sizeof__',\n",
              " '__str__',\n",
              " '__subclasshook__',\n",
              " 'clear',\n",
              " 'copy',\n",
              " 'fromkeys',\n",
              " 'get',\n",
              " 'items',\n",
              " 'keys',\n",
              " 'pop',\n",
              " 'popitem',\n",
              " 'setdefault',\n",
              " 'update',\n",
              " 'values']"
            ]
          },
          "metadata": {},
          "execution_count": 88
        }
      ]
    },
    {
      "cell_type": "markdown",
      "source": [
        "clear():\tRemoves all the elements from the dictionary"
      ],
      "metadata": {
        "id": "lFyQdI00fpYZ"
      }
    },
    {
      "cell_type": "code",
      "source": [
        "mydict = {\n",
        "  \"key1\": \"blue\",\n",
        "  \"key2\": \"sky\",\n",
        "  \"key3\": 100\n",
        "}\n",
        "mydict.clear()\n",
        "print(mydict)"
      ],
      "metadata": {
        "colab": {
          "base_uri": "https://localhost:8080/"
        },
        "id": "ZOf1PAD3fwEx",
        "outputId": "d049a3b4-16bd-4e99-84e2-7f0431531290"
      },
      "execution_count": null,
      "outputs": [
        {
          "output_type": "stream",
          "name": "stdout",
          "text": [
            "{}\n"
          ]
        }
      ]
    },
    {
      "cell_type": "markdown",
      "source": [
        "copy():\tReturns a copy of the dictionary"
      ],
      "metadata": {
        "id": "x9XbxOC6gHSM"
      }
    },
    {
      "cell_type": "code",
      "source": [
        "mydict = {\n",
        "  \"key1\": \"blue\",\n",
        "  \"key2\": \"sky\",\n",
        "  \"key3\": 100\n",
        "}\n",
        "mydict.copy()\n",
        "print(mydict)"
      ],
      "metadata": {
        "colab": {
          "base_uri": "https://localhost:8080/"
        },
        "id": "7cHFYfCygNaw",
        "outputId": "4b1e18c2-0349-46f8-f013-0a81940bf8e4"
      },
      "execution_count": null,
      "outputs": [
        {
          "output_type": "stream",
          "name": "stdout",
          "text": [
            "{'key1': 'blue', 'key2': 'sky', 'key3': 100}\n"
          ]
        }
      ]
    },
    {
      "cell_type": "markdown",
      "source": [
        "fromkeys():\tReturns a dictionary with the specified keys and value"
      ],
      "metadata": {
        "id": "zJhCFo30gUTs"
      }
    },
    {
      "cell_type": "code",
      "source": [
        "x = ('key1', 'key2', 'key3')\n",
        "y = (3,4,5)\n",
        "mydict = dict.fromkeys(x, y)\n",
        "print(mydict)"
      ],
      "metadata": {
        "colab": {
          "base_uri": "https://localhost:8080/"
        },
        "id": "oIVisEDfgVnI",
        "outputId": "5db49b57-2ea6-4f7c-8e8a-51786a74ca9f"
      },
      "execution_count": null,
      "outputs": [
        {
          "output_type": "stream",
          "name": "stdout",
          "text": [
            "{'key1': (3, 4, 5), 'key2': (3, 4, 5), 'key3': (3, 4, 5)}\n"
          ]
        }
      ]
    },
    {
      "cell_type": "markdown",
      "source": [
        "get():\tReturns the value of the specified key"
      ],
      "metadata": {
        "id": "gfn-uoBAg9mR"
      }
    },
    {
      "cell_type": "code",
      "source": [
        "mydict = {\n",
        "  \"key1\": \"blue\",\n",
        "  \"key2\": \"sky\",\n",
        "  \"key3\": 100\n",
        "}\n",
        "x=mydict.get(\"key2\")\n",
        "print(x)"
      ],
      "metadata": {
        "colab": {
          "base_uri": "https://localhost:8080/"
        },
        "id": "aEl2K8asg_rx",
        "outputId": "3d14674b-7315-42de-d0c5-d305bfcd123a"
      },
      "execution_count": null,
      "outputs": [
        {
          "output_type": "stream",
          "name": "stdout",
          "text": [
            "sky\n"
          ]
        }
      ]
    },
    {
      "cell_type": "markdown",
      "source": [
        "items():\tReturns a list containing a tuple for each key value pair"
      ],
      "metadata": {
        "id": "gKBZl2MKhbLo"
      }
    },
    {
      "cell_type": "code",
      "source": [
        "mydict = {\n",
        "  \"key1\": \"blue\",\n",
        "  \"key2\": \"sky\",\n",
        "  \"key3\": 100\n",
        "}\n",
        "x=mydict.items()\n",
        "print(x)"
      ],
      "metadata": {
        "colab": {
          "base_uri": "https://localhost:8080/"
        },
        "id": "V0HnwMpAiUOj",
        "outputId": "d6a86bc6-ddb1-41fb-ab70-156faa87218e"
      },
      "execution_count": null,
      "outputs": [
        {
          "output_type": "stream",
          "name": "stdout",
          "text": [
            "dict_items([('key1', 'blue'), ('key2', 'sky'), ('key3', 100)])\n"
          ]
        }
      ]
    },
    {
      "cell_type": "markdown",
      "source": [
        "keys():\tReturns a list containing the dictionary's keys"
      ],
      "metadata": {
        "id": "nVMTLJxYiiCl"
      }
    },
    {
      "cell_type": "code",
      "source": [
        "mydict = {\n",
        "  \"key1\": \"blue\",\n",
        "  \"key2\": \"sky\",\n",
        "  \"key3\": 100\n",
        "}\n",
        "x=mydict.keys()\n",
        "print(x)"
      ],
      "metadata": {
        "colab": {
          "base_uri": "https://localhost:8080/"
        },
        "id": "w9E45JdWmam4",
        "outputId": "0699b736-cffb-46c8-fd25-5228ec798da8"
      },
      "execution_count": null,
      "outputs": [
        {
          "output_type": "stream",
          "name": "stdout",
          "text": [
            "dict_keys(['key1', 'key2', 'key3'])\n"
          ]
        }
      ]
    },
    {
      "cell_type": "markdown",
      "source": [
        "pop():\tRemoves the element with the specified key"
      ],
      "metadata": {
        "id": "AZ53yLHOmrG2"
      }
    },
    {
      "cell_type": "code",
      "source": [
        "mydict = {\n",
        "  \"key1\": \"blue\",\n",
        "  \"key2\": \"sky\",\n",
        "  \"key3\": 100\n",
        "}\n",
        "x=mydict.pop(\"key3\")\n",
        "print(x)"
      ],
      "metadata": {
        "colab": {
          "base_uri": "https://localhost:8080/"
        },
        "id": "846I-QWWmtOC",
        "outputId": "58e8c80c-4ece-471d-d07c-58a176f6cdfc"
      },
      "execution_count": null,
      "outputs": [
        {
          "output_type": "stream",
          "name": "stdout",
          "text": [
            "100\n"
          ]
        }
      ]
    },
    {
      "cell_type": "markdown",
      "source": [
        "popitem():\tRemoves the last inserted key-value pair"
      ],
      "metadata": {
        "id": "C15UtA08nL8w"
      }
    },
    {
      "cell_type": "code",
      "source": [
        "mydict = {\n",
        "  \"key1\": \"blue\",\n",
        "  \"key2\": \"sky\",\n",
        "  \"key3\": 100\n",
        "}\n",
        "mydict.popitem()\n",
        "print(mydict)"
      ],
      "metadata": {
        "colab": {
          "base_uri": "https://localhost:8080/"
        },
        "id": "sm1pm6q5nWYl",
        "outputId": "ff49e1e9-fd60-4822-c04c-6845fe66a041"
      },
      "execution_count": null,
      "outputs": [
        {
          "output_type": "stream",
          "name": "stdout",
          "text": [
            "{'key1': 'blue', 'key2': 'sky'}\n"
          ]
        }
      ]
    },
    {
      "cell_type": "markdown",
      "source": [
        "setdefault():\tReturns the value of the specified key. If the key does not exist: insert the key, with the specified value"
      ],
      "metadata": {
        "id": "4u6xNOOeoGlf"
      }
    },
    {
      "cell_type": "code",
      "source": [
        "mydict = {\n",
        "  \"key1\": \"blue\",\n",
        "  \"key2\": \"sky\",\n",
        "  \"key3\": 100\n",
        "}\n",
        "x=mydict.setdefault(\"key2\",\"moon\")\n",
        "print(x)"
      ],
      "metadata": {
        "colab": {
          "base_uri": "https://localhost:8080/"
        },
        "id": "sOOQXdbhoIno",
        "outputId": "dfa99ca4-1c11-4665-a7b0-ef096d6cd580"
      },
      "execution_count": null,
      "outputs": [
        {
          "output_type": "stream",
          "name": "stdout",
          "text": [
            "sky\n"
          ]
        }
      ]
    },
    {
      "cell_type": "markdown",
      "source": [
        "update():\tUpdates the dictionary with the specified key-value pairs"
      ],
      "metadata": {
        "id": "NaLS5DQXqFal"
      }
    },
    {
      "cell_type": "code",
      "source": [
        "mydict = {\n",
        "  \"key1\": \"blue\",\n",
        "  \"key2\": \"sky\",\n",
        "  \"key3\": 100\n",
        "}\n",
        "mydict.update({\"key4\":\"moon\"})\n",
        "print(mydict)"
      ],
      "metadata": {
        "colab": {
          "base_uri": "https://localhost:8080/"
        },
        "id": "H_BZFbDSqIwV",
        "outputId": "5889a1b9-a20a-482a-bbd6-68bb87c350eb"
      },
      "execution_count": null,
      "outputs": [
        {
          "output_type": "stream",
          "name": "stdout",
          "text": [
            "{'key1': 'blue', 'key2': 'sky', 'key3': 100, 'key4': 'moon'}\n"
          ]
        }
      ]
    },
    {
      "cell_type": "markdown",
      "source": [
        "values():\tReturns a list of all the values in the dictionary"
      ],
      "metadata": {
        "id": "ongvU7KJqw59"
      }
    },
    {
      "cell_type": "code",
      "source": [
        "mydict = {\n",
        "  \"key1\": \"blue\",\n",
        "  \"key2\": \"sky\",\n",
        "  \"key3\": 100\n",
        "}\n",
        "x=mydict.values()\n",
        "print(x)"
      ],
      "metadata": {
        "colab": {
          "base_uri": "https://localhost:8080/"
        },
        "id": "Xh6zbPBsq1Vu",
        "outputId": "ff0cc5f3-dd3c-4d58-b2b9-a5cc814b0415"
      },
      "execution_count": null,
      "outputs": [
        {
          "output_type": "stream",
          "name": "stdout",
          "text": [
            "dict_values(['blue', 'sky', 100])\n"
          ]
        }
      ]
    }
  ]
}